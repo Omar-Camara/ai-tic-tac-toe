{
 "cells": [
  {
   "cell_type": "code",
   "execution_count": 7,
   "id": "490fb6ac-6a18-4ae0-9fa2-aec78001ff47",
   "metadata": {},
   "outputs": [
    {
     "name": "stdin",
     "output_type": "stream",
     "text": [
      "Type 1 if you want to try and beat the AI or 2 if you want to watch AI play itself 1\n"
     ]
    },
    {
     "name": "stdout",
     "output_type": "stream",
     "text": [
      "\n",
      "Current state:\n",
      "_ _ _\n",
      "_ _ _\n",
      "_ _ _\n",
      "Current player: X\n",
      "Valid actions: [(0, 0), (0, 1), (0, 2), (1, 0), (1, 1), (1, 2), (2, 0), (2, 1), (2, 2)]\n"
     ]
    },
    {
     "name": "stdin",
     "output_type": "stream",
     "text": [
      "Choose action in format 'r,c':  1,1\n"
     ]
    },
    {
     "name": "stdout",
     "output_type": "stream",
     "text": [
      "\n",
      "Current state:\n",
      "_ _ _\n",
      "_ X _\n",
      "_ _ _\n",
      "Current player: O\n",
      "Valid actions: [(0, 0), (0, 1), (0, 2), (1, 0), (1, 2), (2, 0), (2, 1), (2, 2)]\n",
      "Minimax chose (0, 0) with utility 0\n",
      "\n",
      "Current state:\n",
      "O _ _\n",
      "_ X _\n",
      "_ _ _\n",
      "Current player: X\n",
      "Valid actions: [(0, 1), (0, 2), (1, 0), (1, 2), (2, 0), (2, 1), (2, 2)]\n"
     ]
    },
    {
     "name": "stdin",
     "output_type": "stream",
     "text": [
      "Choose action in format 'r,c':  2,2\n"
     ]
    },
    {
     "name": "stdout",
     "output_type": "stream",
     "text": [
      "\n",
      "Current state:\n",
      "O _ _\n",
      "_ X _\n",
      "_ _ X\n",
      "Current player: O\n",
      "Valid actions: [(0, 1), (0, 2), (1, 0), (1, 2), (2, 0), (2, 1)]\n",
      "Minimax chose (0, 2) with utility 0\n",
      "\n",
      "Current state:\n",
      "O _ O\n",
      "_ X _\n",
      "_ _ X\n",
      "Current player: X\n",
      "Valid actions: [(0, 1), (1, 0), (1, 2), (2, 0), (2, 1)]\n"
     ]
    },
    {
     "name": "stdin",
     "output_type": "stream",
     "text": [
      "Choose action in format 'r,c':  0,1\n"
     ]
    },
    {
     "name": "stdout",
     "output_type": "stream",
     "text": [
      "\n",
      "Current state:\n",
      "O X O\n",
      "_ X _\n",
      "_ _ X\n",
      "Current player: O\n",
      "Valid actions: [(1, 0), (1, 2), (2, 0), (2, 1)]\n",
      "Minimax chose (2, 1) with utility 0\n",
      "\n",
      "Current state:\n",
      "O X O\n",
      "_ X _\n",
      "_ O X\n",
      "Current player: X\n",
      "Valid actions: [(1, 0), (1, 2), (2, 0)]\n"
     ]
    },
    {
     "name": "stdin",
     "output_type": "stream",
     "text": [
      "Choose action in format 'r,c':  2,0\n"
     ]
    },
    {
     "name": "stdout",
     "output_type": "stream",
     "text": [
      "\n",
      "Current state:\n",
      "O X O\n",
      "_ X _\n",
      "X O X\n",
      "Current player: O\n",
      "Valid actions: [(1, 0), (1, 2)]\n",
      "Minimax chose (1, 0) with utility 0\n",
      "\n",
      "Current state:\n",
      "O X O\n",
      "O X _\n",
      "X O X\n",
      "Current player: X\n",
      "Valid actions: [(1, 2)]\n"
     ]
    },
    {
     "name": "stdin",
     "output_type": "stream",
     "text": [
      "Choose action in format 'r,c':  1,2\n"
     ]
    },
    {
     "name": "stdout",
     "output_type": "stream",
     "text": [
      "Game over, score = 0\n",
      "O X O\n",
      "O X X\n",
      "X O X\n"
     ]
    }
   ],
   "source": [
    "# state[r,c] is the content at position (r,c) of the board: \"_\", \"X\", or \"O\"\n",
    "import numpy as np\n",
    "\n",
    "def get_initial_state():\n",
    "    return np.full((3,3), \"_\") # create tic-tac-toe board filled with underscores to represent empty spaces\n",
    "\n",
    "def state_string(state):\n",
    "    return \"\\n\".join([\" \".join(row) for row in state]) #convert current 2D NumPy array into readable string format\n",
    "\n",
    "def get_score(state):\n",
    "    # Count the number of empty spaces\n",
    "    empty_spaces = np.count_nonzero(state == \"_\")\n",
    "\n",
    "    # Reward faster wins: earlier wins (with more empty spaces) will have a higher score\n",
    "    magnitude = empty_spaces + 1  # +1 to avoid multiplying by 0\n",
    "\n",
    "    for player, value in ((\"X\", magnitude), (\"O\", -magnitude)):\n",
    "        if (state == player).all(axis=0).any(): return value\n",
    "        if (state == player).all(axis=1).any(): return value\n",
    "        if (np.diag(state) == player).all(): return value\n",
    "        if (np.diag(np.rot90(state)) == player).all(): return value\n",
    "    return 0\n",
    "\n",
    "def get_player(state):\n",
    "    # If O's < X's, it's player O's turn, otherwise it's X's turn\n",
    "    return \"XO\"[\n",
    "        np.count_nonzero(state == \"O\") < np.count_nonzero(state == \"X\")]\n",
    "\n",
    "def valid_actions(state):\n",
    "    # return list of positions with '_' (empty)\n",
    "  return list(zip(*np.nonzero(state == \"_\")))\n",
    "\n",
    "def perform_action(state, action):\n",
    "    # Update the board with the move and location of the current player\n",
    "  state = state.copy()\n",
    "  state[action] = get_player(state)\n",
    "  return state\n",
    "\n",
    "def children_of(state):\n",
    "    # Gets all possible next states of current state\n",
    "    symbol = get_player(state)\n",
    "    children = []\n",
    "    for r in range(state.shape[0]):\n",
    "        for c in range(state.shape[1]):\n",
    "            if state[r,c] == \"_\":\n",
    "                child = state.copy()\n",
    "                child[r,c] = symbol\n",
    "                children.append(child)\n",
    "    return children\n",
    "    \n",
    "# Minimax with Alpha-Beta Pruning\n",
    "def minimax(state, alpha=-np.inf, beta=np.inf):\n",
    "    score = get_score(state)\n",
    "    actions = valid_actions(state)\n",
    "\n",
    "    # Base case: no valid actions or game over\n",
    "    if len(actions) == 0 or score != 0:\n",
    "        return None, score\n",
    "\n",
    "    player = get_player(state)\n",
    "\n",
    "    if player == \"X\":  # Maximizing player\n",
    "        max_utility = -np.inf\n",
    "        best_action = None\n",
    "        for action in actions:\n",
    "            child = perform_action(state, action)\n",
    "            _, utility = minimax(child, alpha, beta)\n",
    "            if utility > max_utility:\n",
    "                max_utility = utility\n",
    "                best_action = action\n",
    "            alpha = max(alpha, utility)  # Update alpha\n",
    "            if beta <= alpha:  # Prune\n",
    "                break\n",
    "        return best_action, max_utility\n",
    "\n",
    "    else:  # Minimizing player\n",
    "        min_utility = np.inf\n",
    "        best_action = None\n",
    "        for action in actions:\n",
    "            child = perform_action(state, action)\n",
    "            _, utility = minimax(child, alpha, beta)\n",
    "            if utility < min_utility:\n",
    "                min_utility = utility\n",
    "                best_action = action\n",
    "            beta = min(beta, utility)  # Update beta\n",
    "            if beta <= alpha:  # Prune\n",
    "                break\n",
    "        return best_action, min_utility\n",
    "    \n",
    "state = get_initial_state()\n",
    "def playAgainstAi(state):\n",
    "    while True:\n",
    "    \n",
    "      score = get_score(state)\n",
    "      player = get_player(state)\n",
    "      actions = valid_actions(state)\n",
    "    \n",
    "      if len(actions) == 0: break\n",
    "      if score != 0: break\n",
    "    \n",
    "      print(\"\\nCurrent state:\")\n",
    "      print(state_string(state))\n",
    "      print(\"Current player:\", player)\n",
    "      print(\"Valid actions:\", actions)\n",
    "    \n",
    "      if player == \"X\":\n",
    "    \n",
    "          choice = input(\"Choose action in format 'r,c': \")\n",
    "          try:\n",
    "            r, c = map(int, choice.split(\",\"))\n",
    "            assert (0 <= r < 3) and (0 <= c < 3)\n",
    "          except:\n",
    "            print(\"Invalid choice\", choice)\n",
    "            continue\n",
    "    \n",
    "      else:\n",
    "    \n",
    "          (r,c), utility = minimax(state)\n",
    "          print(f\"Minimax chose {(r,c)} with utility {utility}\")\n",
    "    \n",
    "      state = perform_action(state, (r,c))\n",
    "    \n",
    "    print(\"Game over, score =\", score)\n",
    "    print(state_string(state))\n",
    "\n",
    "def AiAgainstAi(state):\n",
    "    while True:\n",
    "    \n",
    "      score = get_score(state)\n",
    "      player = get_player(state)\n",
    "      actions = valid_actions(state)\n",
    "    \n",
    "      if len(actions) == 0: break\n",
    "      if score != 0: break\n",
    "    \n",
    "      print(\"\\nCurrent state:\")\n",
    "      print(state_string(state))\n",
    "      print(\"Current player:\", player)\n",
    "      print(\"Valid actions:\", actions)\n",
    "    \n",
    "      (r,c), utility = minimax(state)\n",
    "      print(f\"Minimax chose {(r,c)} with utility {utility}\")\n",
    "    \n",
    "      state = perform_action(state, (r,c))\n",
    "    \n",
    "    print(\"Game over, score =\", score)\n",
    "    print(state_string(state))\n",
    "\n",
    "answer = int(input(\"Type 1 if you want to try and beat the AI or 2 if you want to watch AI play itself\\n\"))\n",
    "if answer == 1:\n",
    "    playAgainstAi(state)\n",
    "elif answer == 2: \n",
    "    AiAgainstAi(state)\n",
    "else:\n",
    "    print(\"Invalid option\")"
   ]
  },
  {
   "cell_type": "code",
   "execution_count": null,
   "id": "77af8e92-0079-4a52-85db-cde0682a7c97",
   "metadata": {},
   "outputs": [],
   "source": []
  },
  {
   "cell_type": "code",
   "execution_count": null,
   "id": "efc3d6b9-d057-44cc-ad1a-53188c35b6e4",
   "metadata": {},
   "outputs": [],
   "source": []
  },
  {
   "cell_type": "code",
   "execution_count": null,
   "id": "9a6187fe-7dcf-4a86-8620-178be93bc679",
   "metadata": {},
   "outputs": [],
   "source": []
  }
 ],
 "metadata": {
  "kernelspec": {
   "display_name": "Python 3 (ipykernel)",
   "language": "python",
   "name": "python3"
  },
  "language_info": {
   "codemirror_mode": {
    "name": "ipython",
    "version": 3
   },
   "file_extension": ".py",
   "mimetype": "text/x-python",
   "name": "python",
   "nbconvert_exporter": "python",
   "pygments_lexer": "ipython3",
   "version": "3.12.4"
  }
 },
 "nbformat": 4,
 "nbformat_minor": 5
}
